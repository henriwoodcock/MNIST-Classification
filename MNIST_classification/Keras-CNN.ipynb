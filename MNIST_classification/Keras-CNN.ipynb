{
 "cells": [
  {
   "cell_type": "markdown",
   "metadata": {},
   "source": [
    "# Convolutional Neural Networks - MNIST Dataset\n",
    "\n",
    "Convolutional neural networks have been shown to be very successful in image recognition. A MLP is fully connected by each layer, for an image this can result in a huge ammount of weights to be learned, especially if the imagine is RGB you have 3x the amount of pixels. This can result in huge amounts of weights to learn.\n",
    "\n",
    "On the other hand a convolutional neural net will use a \"filter\" to scan the images. This is essentially looking over smaller portions of an image so maybe a 3x3 section of the picture. This allows for nearby pixels to be more strongly related than further away pixels, this means the model learns relationships between certain parts of images for example the shape of an eye when recognising a face."
   ]
  }
 ],
 "metadata": {
  "kernelspec": {
   "display_name": "Python 3",
   "language": "python",
   "name": "python3"
  },
  "language_info": {
   "codemirror_mode": {
    "name": "ipython",
    "version": 3
   },
   "file_extension": ".py",
   "mimetype": "text/x-python",
   "name": "python",
   "nbconvert_exporter": "python",
   "pygments_lexer": "ipython3",
   "version": "3.7.3"
  }
 },
 "nbformat": 4,
 "nbformat_minor": 2
}
