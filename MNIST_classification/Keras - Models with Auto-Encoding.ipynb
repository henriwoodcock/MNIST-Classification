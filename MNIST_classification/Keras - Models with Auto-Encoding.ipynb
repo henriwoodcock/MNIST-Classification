{
 "cells": [
  {
   "cell_type": "code",
   "execution_count": 1,
   "metadata": {},
   "outputs": [
    {
     "name": "stderr",
     "output_type": "stream",
     "text": [
      "Using TensorFlow backend.\n"
     ]
    }
   ],
   "source": [
    "import matplotlib.pyplot as plt\n",
    "import tensorflow as tf\n",
    "from tensorflow import keras\n",
    "from tensorflow.keras import layers\n",
    "from tensorflow.keras.datasets import mnist\n",
    "from keras.utils import to_categorical\n",
    "\n",
    "import numpy as np\n",
    "from tensorflow.keras.optimizers import RMSprop"
   ]
  },
  {
   "cell_type": "code",
   "execution_count": 36,
   "metadata": {},
   "outputs": [],
   "source": [
    "(x_train, y_train), (x_test, y_test) = mnist.load_data()\n",
    "x_train, x_test = x_train.reshape(x_train.shape[0], 784), x_test.reshape(x_test.shape[0], 784)\n",
    "#normalise:\n",
    "x_train, x_test = x_train/255, x_test/255"
   ]
  },
  {
   "cell_type": "code",
   "execution_count": 8,
   "metadata": {},
   "outputs": [],
   "source": [
    "encoded_dim = 32 #compression factor = 784/32 = 24.5\n",
    "regulariser = keras.regularizers.l2(0.01)\n",
    "\n",
    "input_img = keras.Input(shape=(784,))"
   ]
  },
  {
   "cell_type": "code",
   "execution_count": 20,
   "metadata": {},
   "outputs": [],
   "source": [
    "#Encoded layer:\n",
    "encoded = layers.Dense(encoded_dim, activation=\"relu\", kernel_regularizer = regulariser)(input_img)\n",
    "\n",
    "#decoded layer:\n",
    "decoded = layers.Dense(784, activation = \"linear\", kernel_regularizer = regulariser)(encoded)\n",
    "\n",
    "#model:\n",
    "autoencoder = keras.Model(input_img, decoded)\n",
    "\n",
    "\n",
    "encoder = keras.Model(input_img, encoded)\n",
    "encoder_input = keras.Input(shape=(encoded_dim,))\n",
    "\n",
    "decoder_layer = autoencoder.layers[-1]\n",
    "decoder = keras.Model(encoder_input, decoder_layer(encoder_input))\n",
    "\n",
    "autoencoder.compile(optimizer='sgd', loss='binary_crossentropy')"
   ]
  },
  {
   "cell_type": "code",
   "execution_count": 21,
   "metadata": {},
   "outputs": [
    {
     "name": "stdout",
     "output_type": "stream",
     "text": [
      "Train on 60000 samples, validate on 10000 samples\n",
      "WARNING:tensorflow:From /Library/Frameworks/Python.framework/Versions/3.7/lib/python3.7/site-packages/tensorflow/python/ops/math_ops.py:3066: to_int32 (from tensorflow.python.ops.math_ops) is deprecated and will be removed in a future version.\n",
      "Instructions for updating:\n",
      "Use tf.cast instead.\n",
      "Epoch 1/50\n",
      "60000/60000 [==============================] - 3s 49us/sample - loss: 1.9239 - val_loss: 1.6652\n",
      "Epoch 2/50\n",
      "60000/60000 [==============================] - 2s 38us/sample - loss: 1.5431 - val_loss: 1.4588\n",
      "Epoch 3/50\n",
      "60000/60000 [==============================] - 2s 41us/sample - loss: 1.4011 - val_loss: 1.3462\n",
      "Epoch 4/50\n",
      "60000/60000 [==============================] - 2s 39us/sample - loss: 1.2943 - val_loss: 1.2420\n",
      "Epoch 5/50\n",
      "60000/60000 [==============================] - 2s 38us/sample - loss: 1.1990 - val_loss: 1.1541\n",
      "Epoch 6/50\n",
      "60000/60000 [==============================] - 2s 38us/sample - loss: 1.1126 - val_loss: 1.0695\n",
      "Epoch 7/50\n",
      "60000/60000 [==============================] - 2s 37us/sample - loss: 1.0288 - val_loss: 0.9826\n",
      "Epoch 8/50\n",
      "60000/60000 [==============================] - 2s 37us/sample - loss: 0.9505 - val_loss: 0.9198\n",
      "Epoch 9/50\n",
      "60000/60000 [==============================] - 2s 37us/sample - loss: 0.8918 - val_loss: 0.8634\n",
      "Epoch 10/50\n",
      "60000/60000 [==============================] - 2s 37us/sample - loss: 0.8393 - val_loss: 0.8139\n",
      "Epoch 11/50\n",
      "60000/60000 [==============================] - 3s 43us/sample - loss: 0.7935 - val_loss: 0.7707\n",
      "Epoch 12/50\n",
      "60000/60000 [==============================] - 3s 42us/sample - loss: 0.7516 - val_loss: 0.7309\n",
      "Epoch 13/50\n",
      "60000/60000 [==============================] - 2s 39us/sample - loss: 0.7320 - val_loss: 0.7170\n",
      "Epoch 14/50\n",
      "60000/60000 [==============================] - 3s 47us/sample - loss: 0.7013 - val_loss: 0.6905\n",
      "Epoch 15/50\n",
      "60000/60000 [==============================] - 2s 40us/sample - loss: 0.6713 - val_loss: 0.6541\n",
      "Epoch 16/50\n",
      "60000/60000 [==============================] - 2s 39us/sample - loss: 0.6407 - val_loss: 0.6254\n",
      "Epoch 17/50\n",
      "60000/60000 [==============================] - 3s 42us/sample - loss: 0.6201 - val_loss: 0.6555\n",
      "Epoch 18/50\n",
      "60000/60000 [==============================] - 2s 39us/sample - loss: 0.6439 - val_loss: 0.6315\n",
      "Epoch 19/50\n",
      "60000/60000 [==============================] - 3s 42us/sample - loss: 0.6213 - val_loss: 0.6086\n",
      "Epoch 20/50\n",
      "60000/60000 [==============================] - 2s 40us/sample - loss: 0.6165 - val_loss: 0.5985\n",
      "Epoch 21/50\n",
      "60000/60000 [==============================] - 3s 44us/sample - loss: 0.5841 - val_loss: 0.5572\n",
      "Epoch 22/50\n",
      "60000/60000 [==============================] - 3s 42us/sample - loss: 0.5401 - val_loss: 0.5363\n",
      "Epoch 23/50\n",
      "60000/60000 [==============================] - 2s 40us/sample - loss: 0.5198 - val_loss: 0.5064\n",
      "Epoch 24/50\n",
      "60000/60000 [==============================] - 2s 39us/sample - loss: 0.4986 - val_loss: 0.4897\n",
      "Epoch 25/50\n",
      "60000/60000 [==============================] - 3s 43us/sample - loss: 0.4835 - val_loss: 0.4757\n",
      "Epoch 26/50\n",
      "60000/60000 [==============================] - 3s 45us/sample - loss: 0.4705 - val_loss: 0.4634\n",
      "Epoch 27/50\n",
      "60000/60000 [==============================] - 2s 41us/sample - loss: 0.4590 - val_loss: 0.4525\n",
      "Epoch 28/50\n",
      "60000/60000 [==============================] - 3s 42us/sample - loss: 0.4487 - val_loss: 0.4426\n",
      "Epoch 29/50\n",
      "60000/60000 [==============================] - 3s 45us/sample - loss: 0.4396 - val_loss: 0.4345\n",
      "Epoch 30/50\n",
      "60000/60000 [==============================] - 2s 39us/sample - loss: 0.4316 - val_loss: 0.4268\n",
      "Epoch 31/50\n",
      "60000/60000 [==============================] - 2s 38us/sample - loss: 0.4242 - val_loss: 0.4192\n",
      "Epoch 32/50\n",
      "60000/60000 [==============================] - 2s 38us/sample - loss: 0.4172 - val_loss: 0.4126\n",
      "Epoch 33/50\n",
      "60000/60000 [==============================] - 2s 37us/sample - loss: 0.4108 - val_loss: 0.4068\n",
      "Epoch 34/50\n",
      "60000/60000 [==============================] - 2s 36us/sample - loss: 0.4053 - val_loss: 0.4017\n",
      "Epoch 35/50\n",
      "60000/60000 [==============================] - 2s 36us/sample - loss: 0.4002 - val_loss: 0.3964\n",
      "Epoch 36/50\n",
      "60000/60000 [==============================] - 2s 36us/sample - loss: 0.3952 - val_loss: 0.3916\n",
      "Epoch 37/50\n",
      "60000/60000 [==============================] - 2s 37us/sample - loss: 0.3906 - val_loss: 0.3870\n",
      "Epoch 38/50\n",
      "60000/60000 [==============================] - 2s 36us/sample - loss: 0.3854 - val_loss: 0.3815\n",
      "Epoch 39/50\n",
      "60000/60000 [==============================] - 2s 36us/sample - loss: 0.3758 - val_loss: 0.3637\n",
      "Epoch 40/50\n",
      "60000/60000 [==============================] - 2s 36us/sample - loss: 0.3614 - val_loss: 0.3582\n",
      "Epoch 41/50\n",
      "60000/60000 [==============================] - 2s 39us/sample - loss: 0.3578 - val_loss: 0.3550\n",
      "Epoch 42/50\n",
      "60000/60000 [==============================] - 3s 43us/sample - loss: 0.3552 - val_loss: 0.3530\n",
      "Epoch 43/50\n",
      "60000/60000 [==============================] - 2s 38us/sample - loss: 0.3529 - val_loss: 0.3505\n",
      "Epoch 44/50\n",
      "60000/60000 [==============================] - 2s 41us/sample - loss: 0.3506 - val_loss: 0.3482\n",
      "Epoch 45/50\n",
      "60000/60000 [==============================] - 3s 46us/sample - loss: 0.3483 - val_loss: 0.3463\n",
      "Epoch 46/50\n",
      "60000/60000 [==============================] - 2s 41us/sample - loss: 0.3464 - val_loss: 0.3442\n",
      "Epoch 47/50\n",
      "60000/60000 [==============================] - 2s 40us/sample - loss: 0.3447 - val_loss: 0.3427\n",
      "Epoch 48/50\n",
      "60000/60000 [==============================] - 3s 42us/sample - loss: 0.3431 - val_loss: 0.3413\n",
      "Epoch 49/50\n",
      "60000/60000 [==============================] - 3s 49us/sample - loss: 0.3423 - val_loss: 0.3407\n",
      "Epoch 50/50\n",
      "60000/60000 [==============================] - 3s 42us/sample - loss: 0.3410 - val_loss: 0.3391\n"
     ]
    },
    {
     "data": {
      "text/plain": [
       "<tensorflow.python.keras.callbacks.History at 0x147324e10>"
      ]
     },
     "execution_count": 21,
     "metadata": {},
     "output_type": "execute_result"
    }
   ],
   "source": [
    "epochs = 50 \n",
    "batch_size = 256\n",
    "\n",
    "autoencoder.fit(x_train, x_train,epochs=epochs, batch_size=batch_size, shuffle=True, validation_data=(x_test, x_test))"
   ]
  },
  {
   "cell_type": "code",
   "execution_count": 37,
   "metadata": {},
   "outputs": [],
   "source": [
    "encoded_train = encoder.predict(x_train)\n",
    "encoded_test = encoder.predict(x_test)\n",
    "\n",
    "y_train, y_test = to_categorical(y_train), to_categorical(y_test)\n",
    "num_of_classes = len(y_train[0])\n"
   ]
  },
  {
   "cell_type": "code",
   "execution_count": 62,
   "metadata": {},
   "outputs": [
    {
     "name": "stdout",
     "output_type": "stream",
     "text": [
      "Train on 60000 samples, validate on 10000 samples\n",
      "Epoch 1/20\n",
      "60000/60000 [==============================] - 4s 59us/sample - loss: 1.3393 - acc: 0.4945 - val_loss: 0.9468 - val_acc: 0.6487\n",
      "Epoch 2/20\n",
      "60000/60000 [==============================] - 3s 52us/sample - loss: 0.9532 - acc: 0.6509 - val_loss: 0.7980 - val_acc: 0.7088\n",
      "Epoch 3/20\n",
      "60000/60000 [==============================] - 3s 54us/sample - loss: 0.8597 - acc: 0.6899 - val_loss: 0.7722 - val_acc: 0.7174\n",
      "Epoch 4/20\n",
      "60000/60000 [==============================] - 3s 57us/sample - loss: 0.8056 - acc: 0.7117 - val_loss: 0.7080 - val_acc: 0.7507\n",
      "Epoch 5/20\n",
      "60000/60000 [==============================] - 3s 54us/sample - loss: 0.7746 - acc: 0.7264 - val_loss: 0.6866 - val_acc: 0.7540\n",
      "Epoch 6/20\n",
      "60000/60000 [==============================] - 3s 54us/sample - loss: 0.7500 - acc: 0.7356 - val_loss: 0.6543 - val_acc: 0.7698\n",
      "Epoch 7/20\n",
      "60000/60000 [==============================] - 3s 54us/sample - loss: 0.7316 - acc: 0.7433 - val_loss: 0.6547 - val_acc: 0.7701\n",
      "Epoch 8/20\n",
      "60000/60000 [==============================] - 3s 53us/sample - loss: 0.7118 - acc: 0.7500 - val_loss: 0.6254 - val_acc: 0.7786\n",
      "Epoch 9/20\n",
      "60000/60000 [==============================] - 3s 54us/sample - loss: 0.7060 - acc: 0.7552 - val_loss: 0.6408 - val_acc: 0.7745\n",
      "Epoch 10/20\n",
      "60000/60000 [==============================] - 3s 54us/sample - loss: 0.6939 - acc: 0.7582 - val_loss: 0.6107 - val_acc: 0.7829\n",
      "Epoch 11/20\n",
      "60000/60000 [==============================] - 3s 53us/sample - loss: 0.6836 - acc: 0.7598 - val_loss: 0.6067 - val_acc: 0.7848\n",
      "Epoch 12/20\n",
      "60000/60000 [==============================] - 3s 53us/sample - loss: 0.6751 - acc: 0.7670 - val_loss: 0.5907 - val_acc: 0.7945\n",
      "Epoch 13/20\n",
      "60000/60000 [==============================] - 3s 53us/sample - loss: 0.6710 - acc: 0.7660 - val_loss: 0.5944 - val_acc: 0.7870\n",
      "Epoch 14/20\n",
      "60000/60000 [==============================] - 3s 53us/sample - loss: 0.6596 - acc: 0.7698 - val_loss: 0.5858 - val_acc: 0.7901\n",
      "Epoch 15/20\n",
      "60000/60000 [==============================] - 3s 53us/sample - loss: 0.6541 - acc: 0.7743 - val_loss: 0.5788 - val_acc: 0.7938\n",
      "Epoch 16/20\n",
      "60000/60000 [==============================] - 3s 54us/sample - loss: 0.6488 - acc: 0.7767 - val_loss: 0.5805 - val_acc: 0.7960\n",
      "Epoch 17/20\n",
      "60000/60000 [==============================] - 3s 53us/sample - loss: 0.6401 - acc: 0.7798 - val_loss: 0.5628 - val_acc: 0.8006\n",
      "Epoch 18/20\n",
      "60000/60000 [==============================] - 3s 53us/sample - loss: 0.6308 - acc: 0.7821 - val_loss: 0.5536 - val_acc: 0.8040\n",
      "Epoch 19/20\n",
      "60000/60000 [==============================] - 3s 53us/sample - loss: 0.6294 - acc: 0.7839 - val_loss: 0.5594 - val_acc: 0.7982\n",
      "Epoch 20/20\n",
      "60000/60000 [==============================] - 3s 53us/sample - loss: 0.6238 - acc: 0.7865 - val_loss: 0.5711 - val_acc: 0.8015\n"
     ]
    },
    {
     "data": {
      "text/plain": [
       "<tensorflow.python.keras.callbacks.History at 0x1622e3208>"
      ]
     },
     "execution_count": 62,
     "metadata": {},
     "output_type": "execute_result"
    }
   ],
   "source": [
    "keep_prob = 0.8\n",
    "#Using keras sequential model:\n",
    "model = keras.Sequential()\n",
    "model.add(layers.Dense(num_of_classes, activation='relu', input_shape=(32,)))\n",
    "\n",
    "model.add(layers.Dense(128, activation = 'relu', input_shape=(32,)))\n",
    "model.add(layers.Dropout(0.2))\n",
    "\n",
    "\n",
    "model.add(layers.Dense(32, activation = 'relu', ))\n",
    "model.add(layers.Dropout(0.2))\n",
    "\n",
    "\n",
    "model.add(layers.Dense(num_of_classes, activation='softmax'))\n",
    "\n",
    "\n",
    "model.compile(loss='categorical_crossentropy', optimizer=\"Adam\", metrics=['accuracy'])\n",
    "\n",
    "\n",
    "epochs = 20\n",
    "model.fit(encoded_train, y_train, epochs=epochs, verbose=1, validation_data=(encoded_test, y_test))"
   ]
  },
  {
   "cell_type": "code",
   "execution_count": 69,
   "metadata": {},
   "outputs": [
    {
     "name": "stdout",
     "output_type": "stream",
     "text": [
      " Test loss = 0.5711329305171966 \n",
      " Test accuracy = 0.8015\n"
     ]
    }
   ],
   "source": [
    "score = model.evaluate(encoded_test, y_test, verbose=0)\n",
    "print(\" Test loss =\", score[0],\"\\n\", \"Test accuracy =\", score[1])"
   ]
  },
  {
   "cell_type": "code",
   "execution_count": null,
   "metadata": {},
   "outputs": [],
   "source": []
  }
 ],
 "metadata": {
  "kernelspec": {
   "display_name": "Python 3",
   "language": "python",
   "name": "python3"
  },
  "language_info": {
   "codemirror_mode": {
    "name": "ipython",
    "version": 3
   },
   "file_extension": ".py",
   "mimetype": "text/x-python",
   "name": "python",
   "nbconvert_exporter": "python",
   "pygments_lexer": "ipython3",
   "version": "3.7.3"
  }
 },
 "nbformat": 4,
 "nbformat_minor": 2
}
